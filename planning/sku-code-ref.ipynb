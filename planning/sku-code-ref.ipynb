{
 "cells": [
  {
   "cell_type": "markdown",
   "metadata": {},
   "source": [
    "| Company               | Category    | Product             | Part          | Grade       | SKU        |\n",
    "| --------------------- | ----------- | ------------------- | ------------- | ----------- | ---------- |\n",
    "| Sun Rise Herbs (SR) | Herbs   (H) | Arnica (050)        | FloweSR (3)   | Whole (1)   | SRH-0503-1 |\n",
    "| Sun Rise Herbs (SR) | Herbs   (H) | Ashwagandha (055)   | Roots (2)     | Crushed (2) | SRH-0552-2 |\n",
    "| Sun Rise Herbs (SR) | Herbs   (H) | Ashwagandha (055)   | Roots (2)     | Powder (4)  | SRH-0552-4 |\n",
    "| Sun Rise Herbs (SR) | Herbs   (H) | Birch Bark  (063)   | Bark (5)      | Powder (4)  | SRH-0635-4 |\n",
    "| Sun Rise Herbs (SR) | Herbs   (H) | Black Cohosh (072)  | Roots (2)     | Crushed (2) | SRH-0722-2 |\n",
    "| Sun Rise Herbs (SR) | Herbs   (H) | Blue Cohosh (073)   | Roots (2)     | Crushed (2) | SRH-0732-2 |\n",
    "| Sun Rise Herbs (SR) | Herbs   (H) | Cacao (079)         | Beans (2)     | Whole (1)   | SRH-0792-1 |\n",
    "| Sun Rise Herbs (SR) | Herbs   (H) | Calendula (083)     | FloweSR (3)   | Whole (1)   | SRH-0833-1 |\n",
    "| Sun Rise Herbs (SR) | Herbs   (H) | Dandelion (086)     | Roots (2)     | Crushed (2) | SRH-0862-2 |\n",
    "| Sun Rise Herbs (SR) | Herbs   (H) | Elder (089)         | FloweSR (3)   | Whole (1)   | SRH-0893-1 |\n",
    "| Sun Rise Herbs (SR) | Herbs   (H) | Galangal (094)      | Roots (2)     | Crushed (2) | SRH-0942-2 |\n",
    "| Sun Rise Herbs (SR) | Herbs   (H) | Kava Kava (098)     | Roots (2)     | Crushed (2) | SRH-0982-2 |\n",
    "| Sun Rise Herbs (SR) | Herbs   (H) | Licorice (104)      | Roots (2)     | Crushed (2) | SRH-1042-2 |\n",
    "| Sun Rise Herbs (SR) | Herbs   (H) | Lime (108)          | Peels (5)     | Powder (4)  | SRH-1085-4 |\n",
    "| Sun Rise Herbs (SR) | Herbs   (H) | Marshmallow (112)   | Leafs (7)     | Crushed (2) | SRH-1127-2 |\n",
    "| Sun Rise Herbs (SR) | Herbs   (H) | Milk Thistle (115)  | Seeds (6)     | Whole (1)   | SRH-1156-1 |\n",
    "| Sun Rise Herbs (SR) | Herbs   (H) | Moringa (119)       | Leafs (7)     | Crushed (2) | SRH-1197-2 |\n",
    "| Sun Rise Herbs (SR) | Herbs   (H) | Moringa (119)       | Leafs (7)     | Powder (4)  | SRH-1197-4 |\n",
    "| Sun Rise Herbs (SR) | Herbs   (H) | Mugwort (122)       | Leafs (7)     | Ground (3)  | SRH-1227-3 |\n",
    "| Sun Rise Herbs (SR) | Herbs   (H) | Mullein (125)       | Leafs (7)     | Ground (3)  | SRH-1257-3 |\n",
    "| Sun Rise Herbs (SR) | Herbs   (H) | Nettle  (145)       | Leafs (7)     | Crushed (2) | SRH-1457-2 |\n",
    "| Sun Rise Herbs (SR) | Herbs   (H) | Nettle  (145)       | Leafs (7)     | Powder (4)  | SRH-1457-4 |\n",
    "| Sun Rise Herbs (SR) | Herbs   (H) | Osha (164)          | Roots (2)     | Whole (1)   | SRH-1642-1 |\n",
    "| Sun Rise Herbs (SR) | Herbs   (H) | Passionflower (176) | FloweSR (3)   | Crushed (2) | SRH-1763-2 |\n",
    "| Sun Rise Herbs (SR) | Herbs   (H) | Patchouli (194)     | Leafs (7)     | Crushed (2) | SRH-1947-2 |\n",
    "| Sun Rise Herbs (SR) | Herbs   (H) | Pau d' Arco (214)   | Bark (9)      | Shaved (5)  | SRH-2149-5 |\n",
    "| Sun Rise Herbs (SR) | Herbs   (H) | Sage (231)          | Leafs (7)     | Ground (3)  | SRH-2318-1 |\n",
    "| Sun Rise Herbs (SR) | Herbs   (H) | Shiitake (246)      | Mushrooms (8) | Whole (1)   | SRH-2468-1 |\n",
    "| Sun Rise Herbs (SR) | Herbs   (H) | Turmeric (259)      | Roots (2)     | Crushed (2) | SRH-2592-2 |\n",
    "| Sun Rise Herbs (SR) | Herbs   (H) | Valerian (266)      | Roots (2)     | Shaved (5)  | SRH-2662-5 |"
   ]
  }
 ],
 "metadata": {
  "kernelspec": {
   "display_name": "Python 3.10.7 ('venv': venv)",
   "language": "python",
   "name": "python3"
  },
  "language_info": {
   "name": "python",
   "version": "3.10.7"
  },
  "orig_nbformat": 4,
  "vscode": {
   "interpreter": {
    "hash": "61a269fdc10acc40890db4fd4e4dda9054585d3b6860fe04a7767519658a0f1f"
   }
  }
 },
 "nbformat": 4,
 "nbformat_minor": 2
}
